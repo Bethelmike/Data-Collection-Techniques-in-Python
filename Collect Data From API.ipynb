{
 "cells": [
  {
   "cell_type": "markdown",
   "metadata": {
    "cell_id": "0486cb71711846088c22bea5c082a93f",
    "deepnote_cell_type": "text-cell-h1",
    "formattedRanges": [],
    "id": "ph3vMVWCiqXs",
    "is_collapsed": false,
    "tags": []
   },
   "source": [
    "# Collecting data from Yahoo finance using yfinance"
   ]
  },
  {
   "cell_type": "markdown",
   "metadata": {
    "cell_id": "910fab7384cd4b2d886b0ec3750ed0db",
    "deepnote_cell_type": "text-cell-p",
    "formattedRanges": [],
    "id": "tu0aDhIxiqXx",
    "is_collapsed": false,
    "tags": []
   },
   "source": [
    "This tutorial will demonstrate how to use Python to retrieve financial data from Yahoo Finance. Using this, we may access historical market data as well as financial information about the company (for example, financial ratios)."
   ]
  },
  {
   "cell_type": "markdown",
   "metadata": {
    "cell_id": "ac12c5587e024e1faba70cb76a6c8667",
    "deepnote_cell_type": "text-cell-h3",
    "formattedRanges": [],
    "id": "6Dk_yrLriqXx",
    "is_collapsed": false,
    "tags": []
   },
   "source": [
    "### Installation"
   ]
  },
  {
   "cell_type": "code",
   "execution_count": 1,
   "metadata": {
    "cell_id": "b34d7321261f43ba89fd00aae0a8b815",
    "deepnote_cell_type": "code",
    "deepnote_to_be_reexecuted": false,
    "execution_millis": 10939,
    "execution_start": 1662148887639,
    "id": "V_DI51ORiqXy",
    "outputId": "cf585a90-60c7-4158-d3b0-c4363b04a7af",
    "source_hash": "391e6f16",
    "tags": []
   },
   "outputs": [
    {
     "name": "stdout",
     "output_type": "stream",
     "text": [
      "Collecting yfinance"
     ]
    },
    {
     "name": "stderr",
     "output_type": "stream",
     "text": [
      "ERROR: pip's dependency resolver does not currently take into account all the packages that are installed. This behaviour is the source of the following dependency conflicts.\n",
      "conda-repo-cli 1.0.27 requires clyent==1.2.1, but you have clyent 1.2.2 which is incompatible.\n",
      "conda-repo-cli 1.0.27 requires nbformat==5.4.0, but you have nbformat 5.7.0 which is incompatible.\n",
      "conda-repo-cli 1.0.27 requires requests==2.28.1, but you have requests 2.31.0 which is incompatible.\n"
     ]
    },
    {
     "name": "stdout",
     "output_type": "stream",
     "text": [
      "\n",
      "  Downloading yfinance-0.2.28-py2.py3-none-any.whl (65 kB)\n",
      "     -------------------------------------- 65.3/65.3 kB 320.2 kB/s eta 0:00:00\n",
      "Requirement already satisfied: pandas>=1.3.0 in c:\\users\\nmesoma\\appdata\\local\\anaconda3\\lib\\site-packages (from yfinance) (1.5.3)\n",
      "Collecting html5lib>=1.1\n",
      "  Downloading html5lib-1.1-py2.py3-none-any.whl (112 kB)\n",
      "     ------------------------------------ 112.2/112.2 kB 542.2 kB/s eta 0:00:00\n",
      "Requirement already satisfied: beautifulsoup4>=4.11.1 in c:\\users\\nmesoma\\appdata\\local\\anaconda3\\lib\\site-packages (from yfinance) (4.11.1)\n",
      "Requirement already satisfied: appdirs>=1.4.4 in c:\\users\\nmesoma\\appdata\\local\\anaconda3\\lib\\site-packages (from yfinance) (1.4.4)\n",
      "Collecting requests>=2.31\n",
      "  Downloading requests-2.31.0-py3-none-any.whl (62 kB)\n",
      "     -------------------------------------- 62.6/62.6 kB 556.7 kB/s eta 0:00:00\n",
      "Collecting frozendict>=2.3.4\n",
      "  Downloading frozendict-2.3.8-cp310-cp310-win_amd64.whl (35 kB)\n",
      "Collecting multitasking>=0.0.7\n",
      "  Downloading multitasking-0.0.11-py3-none-any.whl (8.5 kB)\n",
      "Requirement already satisfied: numpy>=1.16.5 in c:\\users\\nmesoma\\appdata\\local\\anaconda3\\lib\\site-packages (from yfinance) (1.23.5)\n",
      "Requirement already satisfied: pytz>=2022.5 in c:\\users\\nmesoma\\appdata\\local\\anaconda3\\lib\\site-packages (from yfinance) (2022.7)\n",
      "Requirement already satisfied: lxml>=4.9.1 in c:\\users\\nmesoma\\appdata\\local\\anaconda3\\lib\\site-packages (from yfinance) (4.9.1)\n",
      "Requirement already satisfied: soupsieve>1.2 in c:\\users\\nmesoma\\appdata\\local\\anaconda3\\lib\\site-packages (from beautifulsoup4>=4.11.1->yfinance) (2.3.2.post1)\n",
      "Requirement already satisfied: six>=1.9 in c:\\users\\nmesoma\\appdata\\local\\anaconda3\\lib\\site-packages (from html5lib>=1.1->yfinance) (1.16.0)\n",
      "Requirement already satisfied: webencodings in c:\\users\\nmesoma\\appdata\\local\\anaconda3\\lib\\site-packages (from html5lib>=1.1->yfinance) (0.5.1)\n",
      "Requirement already satisfied: python-dateutil>=2.8.1 in c:\\users\\nmesoma\\appdata\\local\\anaconda3\\lib\\site-packages (from pandas>=1.3.0->yfinance) (2.8.2)\n",
      "Requirement already satisfied: urllib3<3,>=1.21.1 in c:\\users\\nmesoma\\appdata\\local\\anaconda3\\lib\\site-packages (from requests>=2.31->yfinance) (1.26.14)\n",
      "Requirement already satisfied: certifi>=2017.4.17 in c:\\users\\nmesoma\\appdata\\local\\anaconda3\\lib\\site-packages (from requests>=2.31->yfinance) (2022.12.7)\n",
      "Requirement already satisfied: charset-normalizer<4,>=2 in c:\\users\\nmesoma\\appdata\\local\\anaconda3\\lib\\site-packages (from requests>=2.31->yfinance) (2.0.4)\n",
      "Requirement already satisfied: idna<4,>=2.5 in c:\\users\\nmesoma\\appdata\\local\\anaconda3\\lib\\site-packages (from requests>=2.31->yfinance) (3.4)\n",
      "Installing collected packages: multitasking, requests, html5lib, frozendict, yfinance\n",
      "  Attempting uninstall: requests\n",
      "    Found existing installation: requests 2.28.1\n",
      "    Uninstalling requests-2.28.1:\n",
      "      Successfully uninstalled requests-2.28.1\n",
      "Successfully installed frozendict-2.3.8 html5lib-1.1 multitasking-0.0.11 requests-2.31.0 yfinance-0.2.28\n",
      "Collecting yahoofinancials\n",
      "  Downloading yahoofinancials-1.16.tar.gz (41 kB)\n",
      "     --------------------------------------- 41.6/41.6 kB 55.7 kB/s eta 0:00:00\n",
      "  Preparing metadata (setup.py): started\n",
      "  Preparing metadata (setup.py): finished with status 'done'\n",
      "Requirement already satisfied: pytz in c:\\users\\nmesoma\\appdata\\local\\anaconda3\\lib\\site-packages (from yahoofinancials) (2022.7)\n",
      "Requirement already satisfied: requests>=2.26 in c:\\users\\nmesoma\\appdata\\local\\anaconda3\\lib\\site-packages (from yahoofinancials) (2.31.0)\n",
      "Requirement already satisfied: certifi>=2017.4.17 in c:\\users\\nmesoma\\appdata\\local\\anaconda3\\lib\\site-packages (from requests>=2.26->yahoofinancials) (2022.12.7)\n",
      "Requirement already satisfied: charset-normalizer<4,>=2 in c:\\users\\nmesoma\\appdata\\local\\anaconda3\\lib\\site-packages (from requests>=2.26->yahoofinancials) (2.0.4)\n",
      "Requirement already satisfied: idna<4,>=2.5 in c:\\users\\nmesoma\\appdata\\local\\anaconda3\\lib\\site-packages (from requests>=2.26->yahoofinancials) (3.4)\n",
      "Requirement already satisfied: urllib3<3,>=1.21.1 in c:\\users\\nmesoma\\appdata\\local\\anaconda3\\lib\\site-packages (from requests>=2.26->yahoofinancials) (1.26.14)\n",
      "Building wheels for collected packages: yahoofinancials\n",
      "  Building wheel for yahoofinancials (setup.py): started\n",
      "  Building wheel for yahoofinancials (setup.py): finished with status 'done'\n",
      "  Created wheel for yahoofinancials: filename=yahoofinancials-1.16-py3-none-any.whl size=28777 sha256=590a9d349c6edc93d96f48d02989433ae6760b6bf60d437358a2a8dabf9474ea\n",
      "  Stored in directory: c:\\users\\nmesoma\\appdata\\local\\pip\\cache\\wheels\\a1\\bb\\f3\\ed65689c7f92555999fed34c2721a012fee2250e3397054ee1\n",
      "Successfully built yahoofinancials\n",
      "Installing collected packages: yahoofinancials\n",
      "Successfully installed yahoofinancials-1.16\n"
     ]
    }
   ],
   "source": [
    "!pip install yfinance\n",
    "!pip install yahoofinancials"
   ]
  },
  {
   "cell_type": "markdown",
   "metadata": {
    "cell_id": "90ad80c9161b4ab88dbea291f5253a22",
    "deepnote_cell_type": "text-cell-h3",
    "formattedRanges": [],
    "id": "cqGnOUPMiqX0",
    "is_collapsed": false,
    "tags": []
   },
   "source": [
    "### Analysis"
   ]
  },
  {
   "cell_type": "markdown",
   "metadata": {
    "cell_id": "d93b634242df43f1b75cfb6e05db48b2",
    "deepnote_cell_type": "text-cell-p",
    "formattedRanges": [],
    "id": "083hdohCiqX0",
    "is_collapsed": false,
    "tags": []
   },
   "source": [
    "The yfinance package can be imported into Python programs once it has been installed. We must use the company's ticker as an example in our argument."
   ]
  },
  {
   "cell_type": "markdown",
   "metadata": {
    "cell_id": "48727246b2604db5853cb74ec15fd13c",
    "deepnote_cell_type": "text-cell-p",
    "formattedRanges": [],
    "id": "zYw0KkAtiqX1",
    "is_collapsed": false,
    "tags": []
   },
   "source": [
    "A security is given a specific set of letters called a ticker or a stock symbol for trading purposes. For instance:"
   ]
  },
  {
   "cell_type": "markdown",
   "metadata": {
    "cell_id": "5ac6bbde01aa41048b94205ed1ba20be",
    "deepnote_cell_type": "text-cell-p",
    "formattedRanges": [],
    "id": "Nji6gcPHiqX1",
    "is_collapsed": false,
    "tags": []
   },
   "source": [
    "For Amazon, it is “AMZN”\n",
    "For Facebook, it is “FB”\n",
    "For Google, it is “GOOGL”\n",
    "For Microsoft, it is \"MSFT\""
   ]
  },
  {
   "cell_type": "code",
   "execution_count": 2,
   "metadata": {
    "cell_id": "80dd82e4656d4b4fa8918375767db6ca",
    "deepnote_cell_type": "code",
    "deepnote_to_be_reexecuted": false,
    "execution_millis": 10,
    "execution_start": 1662148898582,
    "id": "5KNsu_UxiqX1",
    "source_hash": "958c73f5",
    "tags": []
   },
   "outputs": [],
   "source": [
    "import yfinance as yahooFinance\n",
    " \n",
    "# Here We are getting Google's financial information\n",
    "GoogleInfo = yahooFinance.Ticker(\"GOOGL\")"
   ]
  },
  {
   "cell_type": "markdown",
   "metadata": {
    "cell_id": "da15d459d8bc424b95477d9e949dac82",
    "deepnote_cell_type": "text-cell-p",
    "formattedRanges": [],
    "id": "6ECuW8tPiqX2",
    "is_collapsed": false,
    "tags": []
   },
   "source": [
    "# whole python dictionary is printed here\n"
   ]
  },
  {
   "cell_type": "code",
   "execution_count": 3,
   "metadata": {
    "cell_id": "3342f5c1ff6447ca967252927bfb4726",
    "deepnote_cell_type": "code",
    "deepnote_to_be_reexecuted": false,
    "execution_millis": 3724,
    "execution_start": 1662148898597,
    "id": "IywjE5ApiqX2",
    "outputId": "26244fc6-c9dc-46fc-cfd1-e5966d4b4440",
    "source_hash": "85443dfe",
    "tags": []
   },
   "outputs": [
    {
     "name": "stdout",
     "output_type": "stream",
     "text": [
      "{'address1': '1600 Amphitheatre Parkway', 'city': 'Mountain View', 'state': 'CA', 'zip': '94043', 'country': 'United States', 'phone': '650 253 0000', 'website': 'https://www.abc.xyz', 'industry': 'Internet Content & Information', 'industryDisp': 'Internet Content & Information', 'sector': 'Communication Services', 'sectorDisp': 'Communication Services', 'longBusinessSummary': 'Alphabet Inc. offers various products and platforms in the United States, Europe, the Middle East, Africa, the Asia-Pacific, Canada, and Latin America. It operates through Google Services, Google Cloud, and Other Bets segments. The Google Services segment provides products and services, including ads, Android, Chrome, hardware, Gmail, Google Drive, Google Maps, Google Photos, Google Play, Search, and YouTube. It is also involved in the sale of apps and in-app purchases and digital content in the Google Play store; and Fitbit wearable devices, Google Nest home products, Pixel phones, and other devices, as well as in the provision of YouTube non-advertising services. The Google Cloud segment offers infrastructure, cybersecurity, data, analytics, AI, and machine learning, and other services; Google Workspace that include cloud-based collaboration tools for enterprises, such as Gmail, Docs, Drive, Calendar, and Meet; and other services for enterprise customers. The Other Bets segment sells health technology and internet services. The company was founded in 1998 and is headquartered in Mountain View, California.', 'fullTimeEmployees': 181798, 'companyOfficers': [{'maxAge': 1, 'name': 'Mr. Sundar  Pichai', 'age': 49, 'title': 'CEO & Director', 'yearBorn': 1973, 'fiscalYear': 2022, 'totalPay': 7947461, 'exercisedValue': 39618220, 'unexercisedValue': 0}, {'maxAge': 1, 'name': 'Ms. Ruth M. Porat', 'age': 64, 'title': 'Pres, Chief Investment Officer, Sr. VP & CFO', 'yearBorn': 1958, 'fiscalYear': 2022, 'totalPay': 1790046, 'exercisedValue': 0, 'unexercisedValue': 0}, {'maxAge': 1, 'name': 'Mr. Lawrence Edward Page', 'age': 49, 'title': 'Co-Founder & Director', 'yearBorn': 1973, 'fiscalYear': 2022, 'totalPay': 1, 'exercisedValue': 0, 'unexercisedValue': 0}, {'maxAge': 1, 'name': 'Mr. Sergey  Brin', 'age': 48, 'title': 'Co-Founder & Director', 'yearBorn': 1974, 'fiscalYear': 2022, 'totalPay': 1, 'exercisedValue': 0, 'unexercisedValue': 0}, {'maxAge': 1, 'name': 'Mr. J. Kent Walker', 'age': 61, 'title': 'Pres of Global Affairs, Chief Legal Officer & Company Sec.', 'yearBorn': 1961, 'fiscalYear': 2022, 'totalPay': 1787541, 'exercisedValue': 0, 'unexercisedValue': 0}, {'maxAge': 1, 'name': 'Dr. Prabhakar  Raghavan', 'age': 61, 'title': 'Sr. VP of Knowledge and Information - Google', 'yearBorn': 1961, 'fiscalYear': 2022, 'totalPay': 1785329, 'exercisedValue': 0, 'unexercisedValue': 0}, {'maxAge': 1, 'name': 'Mr. Philipp  Schindler', 'age': 51, 'title': 'Sr. VP & Chief Bus. Officer of Google', 'yearBorn': 1971, 'fiscalYear': 2022, 'totalPay': 1785814, 'exercisedValue': 0, 'unexercisedValue': 0}, {'maxAge': 1, 'name': \"Ms. Amie Thuener O'Toole\", 'age': 47, 'title': 'Chief Accounting Officer & VP', 'yearBorn': 1975, 'exercisedValue': 0, 'unexercisedValue': 0}, {'maxAge': 1, 'name': 'Ms. Ellen  West', 'title': 'VP of Investor Relations', 'exercisedValue': 0, 'unexercisedValue': 0}, {'maxAge': 1, 'name': 'Ms. Fiona Clare Cicconi', 'age': 56, 'title': 'Chief People Officer', 'yearBorn': 1966, 'exercisedValue': 0, 'unexercisedValue': 0}], 'auditRisk': 8, 'boardRisk': 6, 'compensationRisk': 10, 'shareHolderRightsRisk': 10, 'overallRisk': 10, 'governanceEpochDate': 1693526400, 'compensationAsOfEpochDate': 1672444800, 'maxAge': 86400, 'priceHint': 2, 'previousClose': 136.17, 'open': 137.455, 'dayLow': 134.85, 'dayHigh': 137.4, 'regularMarketPreviousClose': 136.17, 'regularMarketOpen': 137.455, 'regularMarketDayLow': 134.85, 'regularMarketDayHigh': 137.4, 'payoutRatio': 0.0, 'beta': 1.061309, 'trailingPE': 28.802547, 'forwardPE': 20.36937, 'volume': 21543687, 'regularMarketVolume': 21543687, 'averageVolume': 30510730, 'averageVolume10days': 27391260, 'averageDailyVolume10Day': 27391260, 'bid': 135.4, 'ask': 135.45, 'bidSize': 800, 'askSize': 800, 'marketCap': 1717143601152, 'fiftyTwoWeekLow': 83.34, 'fiftyTwoWeekHigh': 138.0, 'priceToSalesTrailing12Months': 5.930776, 'fiftyDayAverage': 126.3474, 'twoHundredDayAverage': 108.4818, 'trailingAnnualDividendRate': 0.0, 'trailingAnnualDividendYield': 0.0, 'currency': 'USD', 'enterpriseValue': 1621636939776, 'profitMargins': 0.21052, 'floatShares': 10881188730, 'sharesOutstanding': 5933000192, 'sharesShort': 46172293, 'sharesShortPriorMonth': 56817772, 'sharesShortPreviousMonthDate': 1689292800, 'dateShortInterest': 1692057600, 'sharesPercentSharesOut': 0.0037, 'heldPercentInsiders': 0.0027700001, 'heldPercentInstitutions': 0.78931, 'shortRatio': 1.44, 'shortPercentOfFloat': 0.0078, 'impliedSharesOutstanding': 12657699840, 'bookValue': 21.153, 'priceToBook': 6.413275, 'lastFiscalYearEnd': 1672444800, 'nextFiscalYearEnd': 1703980800, 'mostRecentQuarter': 1688083200, 'earningsQuarterlyGrowth': 0.148, 'netIncomeToCommon': 60953001984, 'trailingEps': 4.71, 'forwardEps': 6.66, 'pegRatio': 1.49, 'lastSplitFactor': '20:1', 'lastSplitDate': 1658102400, 'enterpriseToRevenue': 5.601, 'enterpriseToEbitda': 17.747, '52WeekChange': 0.27010584, 'SandP52WeekChange': 0.15546322, 'exchange': 'NMS', 'quoteType': 'EQUITY', 'symbol': 'GOOGL', 'underlyingSymbol': 'GOOGL', 'shortName': 'Alphabet Inc.', 'longName': 'Alphabet Inc.', 'firstTradeDateEpochUtc': 1092922200, 'timeZoneFullName': 'America/New_York', 'timeZoneShortName': 'EDT', 'uuid': 'e15ce71f-f533-3912-9f11-a46c09e2412b', 'messageBoardId': 'finmb_29096', 'gmtOffSetMilliseconds': -14400000, 'currentPrice': 135.66, 'targetHighPrice': 200.0, 'targetLowPrice': 121.0, 'targetMeanPrice': 148.06, 'targetMedianPrice': 150.0, 'recommendationMean': 1.9, 'recommendationKey': 'buy', 'numberOfAnalystOpinions': 44, 'totalCash': 118331998208, 'totalCashPerShare': 9.385, 'ebitda': 91374002176, 'totalDebt': 29432000512, 'quickRatio': 2.022, 'currentRatio': 2.172, 'totalRevenue': 289531002880, 'debtToEquity': 11.017, 'revenuePerShare': 22.547, 'returnOnAssets': 0.1296, 'returnOnEquity': 0.23329, 'grossProfits': 156633000000, 'freeCashflow': 68255125504, 'operatingCashflow': 99142000640, 'earningsGrowth': 0.191, 'revenueGrowth': 0.071, 'grossMargins': 0.55594003, 'ebitdaMargins': 0.31559, 'operatingMargins': 0.26437, 'financialCurrency': 'USD', 'trailingPegRatio': 1.2867}\n"
     ]
    }
   ],
   "source": [
    "print(GoogleInfo.info)"
   ]
  },
  {
   "cell_type": "markdown",
   "metadata": {
    "cell_id": "f7b2a95208344c3b8f6129d3c0eaf8ee",
    "deepnote_cell_type": "text-cell-p",
    "formattedRanges": [],
    "id": "P-XixLRFiqX2",
    "is_collapsed": false,
    "tags": []
   },
   "source": [
    "The print statement produces a Python dictionary, which we can analyze and use to get the specific financial data we're looking for from Yahoo Finance. Let's take a few financial critical metrics as an example."
   ]
  },
  {
   "cell_type": "markdown",
   "metadata": {
    "cell_id": "f75c8ea3fdeb41a7b0b5e4f0a39ea050",
    "deepnote_cell_type": "text-cell-p",
    "formattedRanges": [],
    "id": "Jy_VtKYhiqX3",
    "is_collapsed": false,
    "tags": []
   },
   "source": [
    "The info dictionary contains all firm information. As a result, we may extract the desired elements from the dictionary by parsing it:"
   ]
  },
  {
   "cell_type": "markdown",
   "metadata": {
    "cell_id": "5e48003356954ec99dc3be3f17f2dd66",
    "deepnote_cell_type": "text-cell-p",
    "formattedRanges": [],
    "id": "b_uFKc9yiqX3",
    "is_collapsed": false,
    "tags": []
   },
   "source": [
    "We can retrieve financial key metrics like Company Sector, Price Earnings Ratio, and Company Beta from the above dictionary of items easily. Let us see the below code."
   ]
  },
  {
   "cell_type": "code",
   "execution_count": 4,
   "metadata": {
    "cell_id": "1bcdcdeb7c7f48b6902d28d5b3e7c109",
    "deepnote_cell_type": "code",
    "deepnote_to_be_reexecuted": false,
    "execution_millis": 539457,
    "execution_start": 1662148902326,
    "id": "flHCCGS1iqX3",
    "outputId": "5acd91c7-ba0a-4b67-9486-1c78f01bf0a0",
    "source_hash": "59d9c05c",
    "tags": []
   },
   "outputs": [
    {
     "name": "stdout",
     "output_type": "stream",
     "text": [
      "Company Sector :  Communication Services\n",
      "Price Earnings Ratio :  28.802547\n",
      " Company Beta :  1.061309\n"
     ]
    }
   ],
   "source": [
    "# display Company Sector\n",
    "print(\"Company Sector : \", GoogleInfo.info['sector'])\n",
    " \n",
    "# display Price Earnings Ratio\n",
    "print(\"Price Earnings Ratio : \", GoogleInfo.info['trailingPE'])\n",
    " \n",
    "# display Company Beta\n",
    "print(\" Company Beta : \", GoogleInfo.info['beta'])"
   ]
  },
  {
   "cell_type": "markdown",
   "metadata": {
    "cell_id": "f19dfe2f6f324ad6b997773102b2a1b6",
    "deepnote_cell_type": "text-cell-p",
    "formattedRanges": [],
    "id": "tPKMqchsiqX4",
    "is_collapsed": false,
    "tags": []
   },
   "source": [
    "There are a ton of more stuff in the information. By printing the informational keys, we can view all of them:"
   ]
  },
  {
   "cell_type": "code",
   "execution_count": 5,
   "metadata": {
    "cell_id": "6cf231f770074d3ba46477812e2c6d48",
    "deepnote_cell_type": "code",
    "deepnote_to_be_reexecuted": false,
    "execution_millis": 4,
    "execution_start": 1662148902335,
    "id": "1IDXmzuyiqX4",
    "outputId": "f6afcecb-b418-4921-fe38-13dce8b69253",
    "source_hash": "18165d7",
    "tags": []
   },
   "outputs": [
    {
     "name": "stdout",
     "output_type": "stream",
     "text": [
      "address1 : 1600 Amphitheatre Parkway\n",
      "city : Mountain View\n",
      "state : CA\n",
      "zip : 94043\n",
      "country : United States\n",
      "phone : 650 253 0000\n",
      "website : https://www.abc.xyz\n",
      "industry : Internet Content & Information\n",
      "industryDisp : Internet Content & Information\n",
      "sector : Communication Services\n",
      "sectorDisp : Communication Services\n",
      "longBusinessSummary : Alphabet Inc. offers various products and platforms in the United States, Europe, the Middle East, Africa, the Asia-Pacific, Canada, and Latin America. It operates through Google Services, Google Cloud, and Other Bets segments. The Google Services segment provides products and services, including ads, Android, Chrome, hardware, Gmail, Google Drive, Google Maps, Google Photos, Google Play, Search, and YouTube. It is also involved in the sale of apps and in-app purchases and digital content in the Google Play store; and Fitbit wearable devices, Google Nest home products, Pixel phones, and other devices, as well as in the provision of YouTube non-advertising services. The Google Cloud segment offers infrastructure, cybersecurity, data, analytics, AI, and machine learning, and other services; Google Workspace that include cloud-based collaboration tools for enterprises, such as Gmail, Docs, Drive, Calendar, and Meet; and other services for enterprise customers. The Other Bets segment sells health technology and internet services. The company was founded in 1998 and is headquartered in Mountain View, California.\n",
      "fullTimeEmployees : 181798\n",
      "companyOfficers : [{'maxAge': 1, 'name': 'Mr. Sundar  Pichai', 'age': 49, 'title': 'CEO & Director', 'yearBorn': 1973, 'fiscalYear': 2022, 'totalPay': 7947461, 'exercisedValue': 39618220, 'unexercisedValue': 0}, {'maxAge': 1, 'name': 'Ms. Ruth M. Porat', 'age': 64, 'title': 'Pres, Chief Investment Officer, Sr. VP & CFO', 'yearBorn': 1958, 'fiscalYear': 2022, 'totalPay': 1790046, 'exercisedValue': 0, 'unexercisedValue': 0}, {'maxAge': 1, 'name': 'Mr. Lawrence Edward Page', 'age': 49, 'title': 'Co-Founder & Director', 'yearBorn': 1973, 'fiscalYear': 2022, 'totalPay': 1, 'exercisedValue': 0, 'unexercisedValue': 0}, {'maxAge': 1, 'name': 'Mr. Sergey  Brin', 'age': 48, 'title': 'Co-Founder & Director', 'yearBorn': 1974, 'fiscalYear': 2022, 'totalPay': 1, 'exercisedValue': 0, 'unexercisedValue': 0}, {'maxAge': 1, 'name': 'Mr. J. Kent Walker', 'age': 61, 'title': 'Pres of Global Affairs, Chief Legal Officer & Company Sec.', 'yearBorn': 1961, 'fiscalYear': 2022, 'totalPay': 1787541, 'exercisedValue': 0, 'unexercisedValue': 0}, {'maxAge': 1, 'name': 'Dr. Prabhakar  Raghavan', 'age': 61, 'title': 'Sr. VP of Knowledge and Information - Google', 'yearBorn': 1961, 'fiscalYear': 2022, 'totalPay': 1785329, 'exercisedValue': 0, 'unexercisedValue': 0}, {'maxAge': 1, 'name': 'Mr. Philipp  Schindler', 'age': 51, 'title': 'Sr. VP & Chief Bus. Officer of Google', 'yearBorn': 1971, 'fiscalYear': 2022, 'totalPay': 1785814, 'exercisedValue': 0, 'unexercisedValue': 0}, {'maxAge': 1, 'name': \"Ms. Amie Thuener O'Toole\", 'age': 47, 'title': 'Chief Accounting Officer & VP', 'yearBorn': 1975, 'exercisedValue': 0, 'unexercisedValue': 0}, {'maxAge': 1, 'name': 'Ms. Ellen  West', 'title': 'VP of Investor Relations', 'exercisedValue': 0, 'unexercisedValue': 0}, {'maxAge': 1, 'name': 'Ms. Fiona Clare Cicconi', 'age': 56, 'title': 'Chief People Officer', 'yearBorn': 1966, 'exercisedValue': 0, 'unexercisedValue': 0}]\n",
      "auditRisk : 8\n",
      "boardRisk : 6\n",
      "compensationRisk : 10\n",
      "shareHolderRightsRisk : 10\n",
      "overallRisk : 10\n",
      "governanceEpochDate : 1693526400\n",
      "compensationAsOfEpochDate : 1672444800\n",
      "maxAge : 86400\n",
      "priceHint : 2\n",
      "previousClose : 136.17\n",
      "open : 137.455\n",
      "dayLow : 134.85\n",
      "dayHigh : 137.4\n",
      "regularMarketPreviousClose : 136.17\n",
      "regularMarketOpen : 137.455\n",
      "regularMarketDayLow : 134.85\n",
      "regularMarketDayHigh : 137.4\n",
      "payoutRatio : 0.0\n",
      "beta : 1.061309\n",
      "trailingPE : 28.802547\n",
      "forwardPE : 20.36937\n",
      "volume : 21543687\n",
      "regularMarketVolume : 21543687\n",
      "averageVolume : 30510730\n",
      "averageVolume10days : 27391260\n",
      "averageDailyVolume10Day : 27391260\n",
      "bid : 135.4\n",
      "ask : 135.45\n",
      "bidSize : 800\n",
      "askSize : 800\n",
      "marketCap : 1717143601152\n",
      "fiftyTwoWeekLow : 83.34\n",
      "fiftyTwoWeekHigh : 138.0\n",
      "priceToSalesTrailing12Months : 5.930776\n",
      "fiftyDayAverage : 126.3474\n",
      "twoHundredDayAverage : 108.4818\n",
      "trailingAnnualDividendRate : 0.0\n",
      "trailingAnnualDividendYield : 0.0\n",
      "currency : USD\n",
      "enterpriseValue : 1621636939776\n",
      "profitMargins : 0.21052\n",
      "floatShares : 10881188730\n",
      "sharesOutstanding : 5933000192\n",
      "sharesShort : 46172293\n",
      "sharesShortPriorMonth : 56817772\n",
      "sharesShortPreviousMonthDate : 1689292800\n",
      "dateShortInterest : 1692057600\n",
      "sharesPercentSharesOut : 0.0037\n",
      "heldPercentInsiders : 0.0027700001\n",
      "heldPercentInstitutions : 0.78931\n",
      "shortRatio : 1.44\n",
      "shortPercentOfFloat : 0.0078\n",
      "impliedSharesOutstanding : 12657699840\n",
      "bookValue : 21.153\n",
      "priceToBook : 6.413275\n",
      "lastFiscalYearEnd : 1672444800\n",
      "nextFiscalYearEnd : 1703980800\n",
      "mostRecentQuarter : 1688083200\n",
      "earningsQuarterlyGrowth : 0.148\n",
      "netIncomeToCommon : 60953001984\n",
      "trailingEps : 4.71\n",
      "forwardEps : 6.66\n",
      "pegRatio : 1.49\n",
      "lastSplitFactor : 20:1\n",
      "lastSplitDate : 1658102400\n",
      "enterpriseToRevenue : 5.601\n",
      "enterpriseToEbitda : 17.747\n",
      "52WeekChange : 0.27010584\n",
      "SandP52WeekChange : 0.15546322\n",
      "exchange : NMS\n",
      "quoteType : EQUITY\n",
      "symbol : GOOGL\n",
      "underlyingSymbol : GOOGL\n",
      "shortName : Alphabet Inc.\n",
      "longName : Alphabet Inc.\n",
      "firstTradeDateEpochUtc : 1092922200\n",
      "timeZoneFullName : America/New_York\n",
      "timeZoneShortName : EDT\n",
      "uuid : e15ce71f-f533-3912-9f11-a46c09e2412b\n",
      "messageBoardId : finmb_29096\n",
      "gmtOffSetMilliseconds : -14400000\n",
      "currentPrice : 135.66\n",
      "targetHighPrice : 200.0\n",
      "targetLowPrice : 121.0\n",
      "targetMeanPrice : 148.06\n",
      "targetMedianPrice : 150.0\n",
      "recommendationMean : 1.9\n",
      "recommendationKey : buy\n",
      "numberOfAnalystOpinions : 44\n",
      "totalCash : 118331998208\n",
      "totalCashPerShare : 9.385\n",
      "ebitda : 91374002176\n",
      "totalDebt : 29432000512\n",
      "quickRatio : 2.022\n",
      "currentRatio : 2.172\n",
      "totalRevenue : 289531002880\n",
      "debtToEquity : 11.017\n",
      "revenuePerShare : 22.547\n",
      "returnOnAssets : 0.1296\n",
      "returnOnEquity : 0.23329\n",
      "grossProfits : 156633000000\n",
      "freeCashflow : 68255125504\n",
      "operatingCashflow : 99142000640\n",
      "earningsGrowth : 0.191\n",
      "revenueGrowth : 0.071\n",
      "grossMargins : 0.55594003\n",
      "ebitdaMargins : 0.31559\n",
      "operatingMargins : 0.26437\n",
      "financialCurrency : USD\n",
      "trailingPegRatio : 1.2867\n"
     ]
    }
   ],
   "source": [
    "# get all key value pairs that are available\n",
    "for key, value in GoogleInfo.info.items():\n",
    "    print(key, \":\", value)"
   ]
  },
  {
   "cell_type": "markdown",
   "metadata": {
    "cell_id": "47ff9ec757744ab89449da6db9db27f3",
    "deepnote_cell_type": "text-cell-p",
    "formattedRanges": [],
    "id": "6SLI9yhBiqX4",
    "is_collapsed": false,
    "tags": []
   },
   "source": [
    "We can retrieve historical market prices too and display them. Additionally, we can utilize it to get earlier market data."
   ]
  },
  {
   "cell_type": "markdown",
   "metadata": {
    "cell_id": "fffe41f7ce124da99ae6da378970bd59",
    "deepnote_cell_type": "text-cell-p",
    "formattedRanges": [],
    "id": "KlCCQY7FiqX5",
    "is_collapsed": false,
    "tags": []
   },
   "source": [
    "We will use historical Google stock values over the past few years as our example. It is a relatively easy assignment to complete, as demonstrated below:"
   ]
  },
  {
   "cell_type": "code",
   "execution_count": 6,
   "metadata": {
    "cell_id": "3de941d175a14a6680b852dd08447f28",
    "deepnote_cell_type": "code",
    "deepnote_to_be_reexecuted": false,
    "execution_millis": 1042,
    "execution_start": 1662148902337,
    "id": "6Q_EBy38iqX5",
    "outputId": "42733bc4-8610-4096-fdcc-c977354c6248",
    "source_hash": "74c8858c",
    "tags": []
   },
   "outputs": [
    {
     "name": "stdout",
     "output_type": "stream",
     "text": [
      "                                 Open        High         Low       Close  \\\n",
      "Date                                                                        \n",
      "2004-08-19 00:00:00-04:00    2.502503    2.604104    2.401401    2.511011   \n",
      "2004-08-20 00:00:00-04:00    2.527778    2.729730    2.515015    2.710460   \n",
      "2004-08-23 00:00:00-04:00    2.771522    2.839840    2.728979    2.737738   \n",
      "2004-08-24 00:00:00-04:00    2.783784    2.792793    2.591842    2.624374   \n",
      "2004-08-25 00:00:00-04:00    2.626627    2.702703    2.599600    2.652653   \n",
      "...                               ...         ...         ...         ...   \n",
      "2023-08-28 00:00:00-04:00  131.309998  132.539993  130.139999  131.009995   \n",
      "2023-08-29 00:00:00-04:00  132.240005  136.570007  132.240005  134.570007   \n",
      "2023-08-30 00:00:00-04:00  134.779999  136.279999  134.070007  135.880005   \n",
      "2023-08-31 00:00:00-04:00  136.009995  138.000000  135.789993  136.169998   \n",
      "2023-09-01 00:00:00-04:00  137.460007  137.460007  134.850006  135.660004   \n",
      "\n",
      "                              Volume  Dividends  Stock Splits  \n",
      "Date                                                           \n",
      "2004-08-19 00:00:00-04:00  893181924        0.0           0.0  \n",
      "2004-08-20 00:00:00-04:00  456686856        0.0           0.0  \n",
      "2004-08-23 00:00:00-04:00  365122512        0.0           0.0  \n",
      "2004-08-24 00:00:00-04:00  304946748        0.0           0.0  \n",
      "2004-08-25 00:00:00-04:00  183772044        0.0           0.0  \n",
      "...                              ...        ...           ...  \n",
      "2023-08-28 00:00:00-04:00   20543300        0.0           0.0  \n",
      "2023-08-29 00:00:00-04:00   43075600        0.0           0.0  \n",
      "2023-08-30 00:00:00-04:00   28315800        0.0           0.0  \n",
      "2023-08-31 00:00:00-04:00   30053800        0.0           0.0  \n",
      "2023-09-01 00:00:00-04:00   21524600        0.0           0.0  \n",
      "\n",
      "[4793 rows x 7 columns]\n"
     ]
    }
   ],
   "source": [
    "# covering the past few years.\n",
    "# max->maximum number of daily prices available\n",
    "# for Google.\n",
    "# Valid options are 1d, 5d, 1mo, 3mo, 6mo, 1y, 2y,\n",
    "# 5y, 10y and ytd.\n",
    "print(GoogleInfo.history(period=\"max\"))"
   ]
  },
  {
   "cell_type": "markdown",
   "metadata": {
    "cell_id": "64667a0319f144b8bbe221d14d469beb",
    "deepnote_cell_type": "text-cell-p",
    "formattedRanges": [],
    "id": "DDGI_UjaiqX6",
    "is_collapsed": false,
    "tags": []
   },
   "source": [
    "We can pass our own start and end dates."
   ]
  },
  {
   "cell_type": "code",
   "execution_count": 7,
   "metadata": {
    "cell_id": "b555f51a73924e00a1c7f38544a61fc0",
    "deepnote_cell_type": "code",
    "deepnote_to_be_reexecuted": false,
    "execution_millis": 337,
    "execution_start": 1662148903060,
    "id": "9T34PHzfiqX6",
    "outputId": "fadfcce8-0e26-4756-8329-cbf96ffe521b",
    "source_hash": "f74cd84b",
    "tags": []
   },
   "outputs": [
    {
     "name": "stdout",
     "output_type": "stream",
     "text": [
      "                                Open       High        Low      Close  \\\n",
      "Date                                                                    \n",
      "2012-05-31 00:00:00-04:00  14.732733  14.764765  14.489489  14.536036   \n",
      "2012-06-01 00:00:00-04:00  14.309059  14.330581  14.222973  14.288789   \n",
      "2012-06-04 00:00:00-04:00  14.269770  14.526777  14.264515  14.479229   \n",
      "2012-06-05 00:00:00-04:00  14.400651  14.467718  14.175926  14.274525   \n",
      "2012-06-06 00:00:00-04:00  14.426426  14.563814  14.354605  14.528779   \n",
      "...                              ...        ...        ...        ...   \n",
      "2013-01-23 00:00:00-05:00  18.418167  18.743744  18.413162  18.556055   \n",
      "2013-01-24 00:00:00-05:00  18.549549  18.939690  18.531281  18.874125   \n",
      "2013-01-25 00:00:00-05:00  18.788038  18.980982  18.775024  18.860611   \n",
      "2013-01-28 00:00:00-05:00  18.812813  18.908909  18.715965  18.787037   \n",
      "2013-01-29 00:00:00-05:00  18.687437  18.942694  18.682182  18.860861   \n",
      "\n",
      "                              Volume  Dividends  Stock Splits  \n",
      "Date                                                           \n",
      "2012-05-31 00:00:00-04:00  118613268        0.0           0.0  \n",
      "2012-06-01 00:00:00-04:00  122193684        0.0           0.0  \n",
      "2012-06-04 00:00:00-04:00   97210692        0.0           0.0  \n",
      "2012-06-05 00:00:00-04:00   93502404        0.0           0.0  \n",
      "2012-06-06 00:00:00-04:00   83748168        0.0           0.0  \n",
      "...                              ...        ...           ...  \n",
      "2013-01-23 00:00:00-05:00  236127636        0.0           0.0  \n",
      "2013-01-24 00:00:00-05:00  135172692        0.0           0.0  \n",
      "2013-01-25 00:00:00-05:00   88946964        0.0           0.0  \n",
      "2013-01-28 00:00:00-05:00   65018916        0.0           0.0  \n",
      "2013-01-29 00:00:00-05:00   69814116        0.0           0.0  \n",
      "\n",
      "[166 rows x 7 columns]\n"
     ]
    }
   ],
   "source": [
    "import datetime\n",
    "\n",
    "start = datetime.datetime(2012,5,31) \n",
    "end = datetime.datetime(2013,1,30) \n",
    "print(GoogleInfo.history(start=start, end=end))"
   ]
  },
  {
   "cell_type": "markdown",
   "metadata": {
    "cell_id": "8246edf4e9cf4e148cd222ea1ed0f6e5",
    "deepnote_cell_type": "text-cell-p",
    "formattedRanges": [],
    "id": "KrLmDPZqiqX6",
    "is_collapsed": false,
    "tags": []
   },
   "source": [
    "We can simultaneously download historical prices for many stocks: "
   ]
  },
  {
   "cell_type": "markdown",
   "metadata": {
    "cell_id": "e926ff6b0c9440b0aded568b48371a91",
    "deepnote_cell_type": "text-cell-p",
    "formattedRanges": [],
    "id": "VMX61AXHiqX6",
    "is_collapsed": false,
    "tags": []
   },
   "source": [
    "The code below Pandas DataFrame including the different price data for the requested stocks. We now select the individual stock by printing df.GOOGL to have the historical market data for Google:"
   ]
  },
  {
   "cell_type": "code",
   "execution_count": 8,
   "metadata": {
    "cell_id": "af3b97e1982d44fd86476b833083a739",
    "deepnote_cell_type": "code",
    "deepnote_to_be_reexecuted": false,
    "execution_millis": 317,
    "execution_start": 1662148903105,
    "id": "Qnn2K3EUiqX6",
    "outputId": "e4f644ea-450f-499f-b4cb-4561338322df",
    "source_hash": "ca070834",
    "tags": []
   },
   "outputs": [
    {
     "name": "stdout",
     "output_type": "stream",
     "text": [
      "[*********************100%%**********************]  2 of 2 completed\n",
      "                GOOGL                                                        \\\n",
      "                 Open       High        Low      Close  Adj Close    Volume   \n",
      "Date                                                                          \n",
      "2019-01-02  51.360001  53.039501  51.264000  52.734001  52.734001  31868000   \n",
      "2019-01-03  52.533501  53.313000  51.118500  51.273499  51.273499  41960000   \n",
      "2019-01-04  52.127998  54.000000  51.842999  53.903500  53.903500  46022000   \n",
      "2019-01-07  54.048500  54.134998  53.132000  53.796001  53.796001  47446000   \n",
      "2019-01-08  54.299999  54.667500  53.417500  54.268501  54.268501  35414000   \n",
      "...               ...        ...        ...        ...        ...       ...   \n",
      "2019-12-24  67.510498  67.600502  67.208504  67.221497  67.221497  13468000   \n",
      "2019-12-26  67.327499  68.160004  67.275497  68.123497  68.123497  23662000   \n",
      "2019-12-27  68.199997  68.352501  67.650002  67.732002  67.732002  23212000   \n",
      "2019-12-30  67.840500  67.849998  66.891998  66.985497  66.985497  19994000   \n",
      "2019-12-31  66.789497  67.032997  66.606499  66.969498  66.969498  19514000   \n",
      "\n",
      "                 AMZN                                                         \n",
      "                 Open       High        Low      Close  Adj Close     Volume  \n",
      "Date                                                                          \n",
      "2019-01-02  73.260002  77.667999  73.046501  76.956497  76.956497  159662000  \n",
      "2019-01-03  76.000504  76.900002  74.855499  75.014000  75.014000  139512000  \n",
      "2019-01-04  76.500000  79.699997  75.915497  78.769501  78.769501  183652000  \n",
      "2019-01-07  80.115501  81.727997  79.459503  81.475502  81.475502  159864000  \n",
      "2019-01-08  83.234497  83.830498  80.830498  82.829002  82.829002  177628000  \n",
      "...               ...        ...        ...        ...        ...        ...  \n",
      "2019-12-24  89.690498  89.778503  89.378998  89.460503  89.460503   17626000  \n",
      "2019-12-26  90.050499  93.523003  89.974998  93.438499  93.438499  120108000  \n",
      "2019-12-27  94.146004  95.070000  93.300499  93.489998  93.489998  123732000  \n",
      "2019-12-30  93.699997  94.199997  92.030998  92.344498  92.344498   73494000  \n",
      "2019-12-31  92.099998  92.663002  91.611504  92.391998  92.391998   50130000  \n",
      "\n",
      "[252 rows x 12 columns]\n",
      "                 Open       High        Low      Close  Adj Close    Volume\n",
      "Date                                                                       \n",
      "2019-01-02  51.360001  53.039501  51.264000  52.734001  52.734001  31868000\n",
      "2019-01-03  52.533501  53.313000  51.118500  51.273499  51.273499  41960000\n",
      "2019-01-04  52.127998  54.000000  51.842999  53.903500  53.903500  46022000\n",
      "2019-01-07  54.048500  54.134998  53.132000  53.796001  53.796001  47446000\n",
      "2019-01-08  54.299999  54.667500  53.417500  54.268501  54.268501  35414000\n",
      "...               ...        ...        ...        ...        ...       ...\n",
      "2019-12-24  67.510498  67.600502  67.208504  67.221497  67.221497  13468000\n",
      "2019-12-26  67.327499  68.160004  67.275497  68.123497  68.123497  23662000\n",
      "2019-12-27  68.199997  68.352501  67.650002  67.732002  67.732002  23212000\n",
      "2019-12-30  67.840500  67.849998  66.891998  66.985497  66.985497  19994000\n",
      "2019-12-31  66.789497  67.032997  66.606499  66.969498  66.969498  19514000\n",
      "\n",
      "[252 rows x 6 columns]\n"
     ]
    }
   ],
   "source": [
    "df = yahooFinance.download(\"AMZN GOOGL\", start=\"2019-01-01\", end=\"2020-01-01\",group_by=\"ticker\") \n",
    "print(df) \n",
    "print(df.GOOGL)"
   ]
  },
  {
   "cell_type": "markdown",
   "metadata": {
    "cell_id": "61c88e0c2861468495781e314e2ea318",
    "deepnote_cell_type": "text-cell-h3",
    "formattedRanges": [],
    "id": "2kVExkk8iqX7",
    "is_collapsed": false,
    "tags": []
   },
   "source": [
    "### Save the data to CSV"
   ]
  },
  {
   "cell_type": "code",
   "execution_count": 10,
   "metadata": {
    "cell_id": "1000fbe00b48452295f5b2d3f056dc96",
    "deepnote_cell_type": "code",
    "deepnote_to_be_reexecuted": false,
    "execution_millis": 1,
    "execution_start": 1662149163576,
    "id": "bjVDh0RHiqX7",
    "source_hash": "f1a64dac",
    "tags": []
   },
   "outputs": [],
   "source": [
    "df.to_csv('FinanceData.csv')"
   ]
  }
 ],
 "metadata": {
  "colab": {
   "provenance": []
  },
  "deepnote": {},
  "deepnote_execution_queue": [],
  "deepnote_notebook_id": "455c66e592214bc6b10e22c0a4d43451",
  "deepnote_persisted_session": {
   "createdAt": "2022-09-02T20:31:29.495Z",
   "filename": "session_dump_60fe70ca29d94ddba20227662f93fd14.pkl"
  },
  "kernelspec": {
   "display_name": "Python 3 (ipykernel)",
   "language": "python",
   "name": "python3"
  },
  "language_info": {
   "codemirror_mode": {
    "name": "ipython",
    "version": 3
   },
   "file_extension": ".py",
   "mimetype": "text/x-python",
   "name": "python",
   "nbconvert_exporter": "python",
   "pygments_lexer": "ipython3",
   "version": "3.10.9"
  }
 },
 "nbformat": 4,
 "nbformat_minor": 1
}
